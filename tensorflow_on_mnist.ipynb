{
 "cells": [
  {
   "cell_type": "markdown",
   "metadata": {},
   "source": [
    "# Using TensorFlow to read Mnist dataset"
   ]
  },
  {
   "cell_type": "code",
   "execution_count": 153,
   "metadata": {
    "collapsed": true
   },
   "outputs": [],
   "source": [
    "import tensorflow as tf\n",
    "import numpy as np\n",
    "import pandas as pd\n",
    "import matplotlib.pyplot as plt\n",
    "\n",
    "tf.reset_default_graph()\n",
    "\n",
    "train_dt = pd.read_csv(\"train.csv\")"
   ]
  },
  {
   "cell_type": "markdown",
   "metadata": {},
   "source": [
    "Get training dataset"
   ]
  },
  {
   "cell_type": "code",
   "execution_count": 154,
   "metadata": {},
   "outputs": [],
   "source": [
    "train_batch_size = 10000\n",
    "\n",
    "\n",
    "Y_dt = train_dt.values[:train_batch_size,1] # Get all labels\n",
    "Y_dt= Y_dt.T\n",
    "X_dt = train_dt.values[:train_batch_size,1:].T/255 # Get all pixel values, normalized"
   ]
  },
  {
   "cell_type": "code",
   "execution_count": 155,
   "metadata": {},
   "outputs": [],
   "source": [
    "def get_mini_batches(X,Y_,batch_size):\n",
    "    random_batch = []\n",
    "    number_of_batches = int(X.shape[1]/64)\n",
    "    index = np.random.permutation(range(number_of_batches))*64\n",
    "    for i in index:\n",
    "        random_x = X_dt[:,i:i+64]\n",
    "        random_y = Y_[:,i:i+64]\n",
    "        random_minibatch = (random_x,random_y)\n",
    "        random_batch.append(random_minibatch)\n",
    "    last_index = max(index)\n",
    "    random_minibatch = (X_dt[:,last_index:],Y_[:,last_index:])\n",
    "    random_batch.append(random_minibatch)\n",
    "    return random_batch"
   ]
  },
  {
   "cell_type": "markdown",
   "metadata": {},
   "source": [
    "Convert Y vector into One-Hot vector"
   ]
  },
  {
   "cell_type": "code",
   "execution_count": 156,
   "metadata": {
    "scrolled": true
   },
   "outputs": [
    {
     "name": "stdout",
     "output_type": "stream",
     "text": [
      "(10000,)\n",
      "(10, 10000)\n"
     ]
    }
   ],
   "source": [
    "\n",
    "\n",
    "Y_one_hot = tf.one_hot(Y_dt,10,axis=0)\n",
    "\n",
    "print(Y_dt.shape)\n",
    "def one_hot():\n",
    "    \n",
    "    with tf.Session() as sess:\n",
    "        Y_ = sess.run(Y_one_hot)\n",
    "    \n",
    "    return Y_\n",
    "\n",
    "\n",
    "print(one_hot().shape)"
   ]
  },
  {
   "cell_type": "markdown",
   "metadata": {},
   "source": [
    "    Create Weights and biases"
   ]
  },
  {
   "cell_type": "code",
   "execution_count": 157,
   "metadata": {},
   "outputs": [],
   "source": [
    "tf.reset_default_graph()\n",
    "\n",
    "def one_hot():\n",
    "    \n",
    "    with tf.Session() as sess:\n",
    "        Y_ = sess.run(Y_one_hot)\n",
    "    \n",
    "    return Y_\n",
    "Y_one_hot = tf.one_hot(Y_dt,10,axis=0)\n",
    "\n",
    "W1 = tf.get_variable(\"W1\",[25,X_dt.shape[0]],initializer = tf.contrib.layers.xavier_initializer(seed=1))\n",
    "B1 = tf.get_variable(\"B1\",[25,1],initializer = tf.zeros_initializer())\n",
    "W2 = tf.get_variable(\"W2\",[12,25],initializer = tf.contrib.layers.xavier_initializer(seed = 1))\n",
    "B2 = tf.get_variable(\"B2\",[12,1],initializer = tf.zeros_initializer())\n",
    "W3 = tf.get_variable(\"W3\",[10,12],initializer = tf.contrib.layers.xavier_initializer(seed = 1))\n",
    "B3 = tf.get_variable(\"B3\",[10,1],initializer = tf.zeros_initializer())\n",
    "Y_ = one_hot()\n",
    "\n",
    "X = tf.placeholder(tf.float32,[None,None],name=\"X\")\n",
    "Y = tf.placeholder(tf.float32,[None,None],name = \"Y\")\n",
    "\n",
    "# First layer\n",
    "Z1 = tf.add(tf.matmul(W1,X),B1)\n",
    "A1 = tf.nn.sigmoid(Z1)\n",
    "# Second layer\n",
    "Z2 = tf.add(tf.matmul(W2,A1),B2)\n",
    "A2 = tf.nn.relu(Z2)\n",
    "# Third layer\n",
    "Z3 = tf.add(tf.matmul(W3,A2),B3)\n",
    "\n",
    "\n",
    "logits = tf.transpose(Z3)\n",
    "labels = tf.transpose(Y)\n",
    "\n",
    "# Calculate Cost\n",
    "cost = tf.reduce_mean(tf.nn.softmax_cross_entropy_with_logits(logits= logits,labels = labels))"
   ]
  },
  {
   "cell_type": "code",
   "execution_count": 171,
   "metadata": {},
   "outputs": [
    {
     "name": "stdout",
     "output_type": "stream",
     "text": [
      "Epoch Cost  1.37064548095\n",
      "Epoch Cost  0.0164409672036\n"
     ]
    },
    {
     "data": {
      "image/png": "[encoded data removed]",
      "text/plain": [
       "<matplotlib.figure.Figure at 0x1201d4908>"
      ]
     },
     "metadata": {},
     "output_type": "display_data"
    }
   ],
   "source": [
    "# Hyper-parameters\n",
    "learning_rate = 0.0001\n",
    "\n",
    "cost_2 =[]\n",
    "epoch_cost = 0.\n",
    "optimizer = tf.train.AdamOptimizer(learning_rate = learning_rate).minimize(cost)\n",
    "\n",
    "init = tf.global_variables_initializer()\n",
    "\n",
    "\n",
    "with tf.Session() as sess:\n",
    "    sess.run(init)\n",
    "    for i in range(100):\n",
    "\n",
    "        mini_batches = get_mini_batches(X_dt,Y_,64)\n",
    "        num_minibatches = len(mini_batches)\n",
    "\n",
    "        for mini_batch in mini_batches:\n",
    "            X_ip,Y_op = mini_batch\n",
    "            \n",
    "            _,epoch_cost = sess.run([optimizer, cost], feed_dict={X: X_ip, Y: Y_op })\n",
    "            epoch_cost += epcoh_cost/num_minibatches\n",
    "        if int(i%50) == 0:\n",
    "            print(\"Epoch Cost \",epoch_cost)\n",
    "        cost_2.append(epoch_cost)\n",
    "\n",
    "\n",
    "plt.plot(cost_2)\n",
    "plt.show()"
   ]
  },
  {
   "cell_type": "code",
   "execution_count": null,
   "metadata": {},
   "outputs": [],
   "source": [
    "\n",
    "\n",
    "\n"
   ]
  },
  {
   "cell_type": "code",
   "execution_count": null,
   "metadata": {
    "collapsed": true
   },
   "outputs": [],
   "source": []
  },
  {
   "cell_type": "code",
   "execution_count": null,
   "metadata": {
    "collapsed": true
   },
   "outputs": [],
   "source": []
  }
 ],
 "metadata": {
  "kernelspec": {
   "display_name": "Python 3",
   "language": "python",
   "name": "python3"
  },
  "language_info": {
   "codemirror_mode": {
    "name": "ipython",
    "version": 3
   },
   "file_extension": ".py",
   "mimetype": "text/x-python",
   "name": "python",
   "nbconvert_exporter": "python",
   "pygments_lexer": "ipython3",
   "version": "3.6.1"
  }
 },
 "nbformat": 4,
 "nbformat_minor": 2
}
