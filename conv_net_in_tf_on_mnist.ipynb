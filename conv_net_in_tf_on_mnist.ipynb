{
 "cells": [
  {
   "cell_type": "code",
   "execution_count": 42,
   "metadata": {
    "collapsed": true
   },
   "outputs": [],
   "source": [
    "import numpy as np\n",
    "import pandas as pd\n",
    "import matplotlib.pyplot as plt\n",
    "import tensorflow as tf\n"
   ]
  },
  {
   "cell_type": "code",
   "execution_count": 43,
   "metadata": {},
   "outputs": [],
   "source": [
    "train_df = pd.read_csv(\"train.csv\")\n",
    "test_df = pd.read_csv(\"test.csv\")\n"
   ]
  },
  {
   "cell_type": "code",
   "execution_count": 91,
   "metadata": {},
   "outputs": [],
   "source": [
    "y_dt = train_df.values[:1024,0]\n",
    "y_dt = y_dt.reshape(y_dt.shape[0],1)\n",
    "x_dt = train_df.values[:1024,1:]"
   ]
  },
  {
   "cell_type": "code",
   "execution_count": 92,
   "metadata": {},
   "outputs": [
    {
     "name": "stdout",
     "output_type": "stream",
     "text": [
      "Output shape :  (1024, 784)\n"
     ]
    }
   ],
   "source": [
    "from sklearn.preprocessing import OneHotEncoder\n",
    "onehotencoder = OneHotEncoder(categorical_features=[0])\n",
    "Y_ = onehotencoder.fit_transform(y_dt).toarray()\n",
    "\n",
    "print(\"Output shape : \",x_dt.shape)"
   ]
  },
  {
   "cell_type": "code",
   "execution_count": 93,
   "metadata": {
    "collapsed": true
   },
   "outputs": [],
   "source": [
    "learning_rate = 0.0001\n",
    "iteration = 100\n",
    "batch_size = 20\n",
    "display_step = 10\n",
    "dropout = 0.75"
   ]
  },
  {
   "cell_type": "code",
   "execution_count": 103,
   "metadata": {},
   "outputs": [],
   "source": [
    "x = tf.placeholder(tf.float32,[None,x_dt.shape[1]])\n",
    "y = tf.placeholder(tf.float32,[None,Y_.shape[1]])\n",
    "keep_probability = tf.placeholder(tf.float32)\n",
    "\n",
    "weights = {\n",
    "    # 5x5 conv, 1 input, 32 outputs\n",
    "    'wc1': tf.Variable(tf.random_normal([5, 5, 1, 32])),\n",
    "    # 5x5 conv, 32 inputs, 64 outputs\n",
    "    'wc2': tf.Variable(tf.random_normal([5, 5, 32, 64])),\n",
    "    # fully connected, 7*7*64 inputs, 1024 outputs\n",
    "    'wd1': tf.Variable(tf.random_normal([7*7*64, 1024])),\n",
    "    # 1024 inputs, 10 outputs (class prediction)\n",
    "    'out': tf.Variable(tf.random_normal([1024, 10]))\n",
    "}\n",
    "\n",
    "biases = {\n",
    "    'bc1': tf.Variable(tf.random_normal([32])),\n",
    "    'bc2': tf.Variable(tf.random_normal([64])),\n",
    "    'bd1': tf.Variable(tf.random_normal([1024])),\n",
    "    'out': tf.Variable(tf.random_normal([10]))\n",
    "}"
   ]
  },
  {
   "cell_type": "code",
   "execution_count": 108,
   "metadata": {
    "collapsed": true
   },
   "outputs": [],
   "source": [
    "def conv(x,W,b,stride):\n",
    "    x=tf.nn.conv2d(x,W,strides = [1,stride,stride,1],padding = 'SAME')\n",
    "    x=tf.nn.bias_add(x,b)\n",
    "    return tf.nn.relu(x)\n",
    "\n",
    "def max_pool(x,stride):\n",
    "    return tf.nn.max_pool(x,ksize = [1,stride,stride,1],strides = [1,stride,stride,1],padding='SAME')\n",
    "\n",
    "\n",
    "def covolution_net(x,weights,biases,dropout):\n",
    "    \n",
    "    x = tf.reshape(x,shape = [-1,28,28,1])\n",
    "    \n",
    "    conv1 = conv(x,weights['wc1'],biases['bc1'],1)\n",
    "    print(\"Convolution 1 : \",conv1.shape)\n",
    "    max_pool1 = max_pool(conv1,2)\n",
    "    \n",
    "    print(\"Max Pool 1 : \",max_pool1.shape)\n",
    "    \n",
    "    conv2 = conv(max_pool1,weights['wc2'],biases['bc2'],1)\n",
    "    print(\"Convolution 2 : \",conv2.shape)\n",
    "    max_pool2 = max_pool(conv2,2)\n",
    "    print(\"Max Pool 2 : \",max_pool2.shape)\n",
    "    \n",
    "    fc1 = tf.reshape(max_pool2, [-1, weights['wd1'].get_shape().as_list()[0]])\n",
    "    fc1 = tf.add(tf.matmul(fc1, weights['wd1']), biases['bd1'])\n",
    "    fc1 = tf.nn.relu(fc1)\n",
    "    fc1 = tf.nn.dropout(fc1, dropout)\n",
    "    print(\"Full Connected: \",fc1.shape)\n",
    "    \n",
    "    out = tf.add(tf.matmul(fc1, weights['out']), biases['out'])\n",
    "    print(\"Output: \",out.shape)\n",
    "    return out\n",
    "\n",
    "\n"
   ]
  },
  {
   "cell_type": "code",
   "execution_count": 109,
   "metadata": {},
   "outputs": [
    {
     "name": "stdout",
     "output_type": "stream",
     "text": [
      "Convolution 1 :  (?, 28, 28, 32)\n",
      "Max Pool 1 :  (?, 14, 14, 32)\n",
      "Convolution 2 :  (?, 14, 14, 64)\n",
      "Max Pool 2 :  (?, 7, 7, 64)\n",
      "Full Connected:  (?, 1024)\n",
      "Output:  (?, 10)\n"
     ]
    }
   ],
   "source": [
    "# Construct model\n",
    "pred = covolution_net(x, weights, biases, dropout)\n",
    "\n",
    "# Define loss and optimizer\n",
    "logits = pred\n",
    "labels = y\n",
    "cost = tf.reduce_mean(tf.nn.softmax_cross_entropy_with_logits(logits=logits, labels=labels))\n",
    "optimizer = tf.train.AdamOptimizer(learning_rate=learning_rate).minimize(cost)\n",
    "\n",
    "# Evaluate model\n",
    "correct_pred = tf.equal(tf.argmax(pred, 1), tf.argmax(y, 1))\n",
    "accuracy = tf.reduce_mean(tf.cast(correct_pred, tf.float32))"
   ]
  },
  {
   "cell_type": "code",
   "execution_count": 110,
   "metadata": {},
   "outputs": [
    {
     "name": "stdout",
     "output_type": "stream",
     "text": [
      "(1024, 10)\n"
     ]
    }
   ],
   "source": [
    "print(Y_.shape)"
   ]
  },
  {
   "cell_type": "code",
   "execution_count": 112,
   "metadata": {},
   "outputs": [
    {
     "name": "stdout",
     "output_type": "stream",
     "text": [
      "Cost at  0  :  2.28852e+07\n",
      "Cost at  1  :  2.19673e+07\n",
      "Cost at  2  :  2.13933e+07\n",
      "Cost at  3  :  2.07617e+07\n",
      "Cost at  4  :  2.01692e+07\n",
      "Cost at  5  :  1.93109e+07\n",
      "Cost at  6  :  1.89087e+07\n",
      "Cost at  7  :  1.89732e+07\n",
      "Cost at  8  :  1.8582e+07\n",
      "Cost at  9  :  1.8165e+07\n"
     ]
    },
    {
     "data": {
      "image/png": "[encoded data removed]",
      "text/plain": [
       "<matplotlib.figure.Figure at 0x11e3484e0>"
      ]
     },
     "metadata": {},
     "output_type": "display_data"
    }
   ],
   "source": [
    "cost_each_iteration =[]\n",
    "epoch_cost = 0.\n",
    "\n",
    "init = tf.global_variables_initializer()\n",
    "\n",
    "\n",
    "with tf.Session() as sess:\n",
    "    sess.run(init)\n",
    "    for i in range(10):\n",
    "        _,epoch_cost = sess.run([optimizer, cost], feed_dict={x: x_dt, y: Y_ })\n",
    "        cost_each_iteration.append(epoch_cost)\n",
    "        print(\"Cost at \",i,\" : \",epoch_cost)\n",
    "\n",
    "\n",
    "plt.plot(cost_each_iteration)\n",
    "plt.show()"
   ]
  }
 ],
 "metadata": {
  "kernelspec": {
   "display_name": "Python 3",
   "language": "python",
   "name": "python3"
  },
  "language_info": {
   "codemirror_mode": {
    "name": "ipython",
    "version": 3
   },
   "file_extension": ".py",
   "mimetype": "text/x-python",
   "name": "python",
   "nbconvert_exporter": "python",
   "pygments_lexer": "ipython3",
   "version": "3.6.1"
  }
 },
 "nbformat": 4,
 "nbformat_minor": 2
}
