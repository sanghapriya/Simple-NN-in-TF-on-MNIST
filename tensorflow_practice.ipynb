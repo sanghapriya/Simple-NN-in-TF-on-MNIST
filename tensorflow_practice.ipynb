{
 "cells": [
  {
   "cell_type": "code",
   "execution_count": 2,
   "metadata": {},
   "outputs": [],
   "source": [
    "import tensorflow as tf"
   ]
  },
  {
   "cell_type": "code",
   "execution_count": 9,
   "metadata": {},
   "outputs": [
    {
     "name": "stdout",
     "output_type": "stream",
     "text": [
      "<tf.Variable 'loss_1:0' shape=() dtype=int32_ref>\n"
     ]
    }
   ],
   "source": [
    "y_hat = tf.constant(36,name='y_hat')\n",
    "y= tf.constant(45,name='y')\n",
    "\n",
    "\n",
    "mul = tf.Variable(tf.multiply(y_hat,y),name=\"loss\")\n",
    "\n",
    "init = tf.global_variables_initializer()\n",
    "\n",
    "print(mul)"
   ]
  },
  {
   "cell_type": "code",
   "execution_count": 11,
   "metadata": {},
   "outputs": [
    {
     "name": "stdout",
     "output_type": "stream",
     "text": [
      "1620\n"
     ]
    }
   ],
   "source": [
    "with tf.Session() as sess:\n",
    "    sess.run(init)\n",
    "    print(sess.run(mul))"
   ]
  },
  {
   "cell_type": "code",
   "execution_count": 16,
   "metadata": {},
   "outputs": [
    {
     "name": "stdout",
     "output_type": "stream",
     "text": [
      "12.0\n"
     ]
    }
   ],
   "source": [
    "a = tf.placeholder(tf.float32,name=\"a\")\n",
    "b = tf.placeholder(tf.float32,name = \"b\")\n",
    "\n",
    "with tf.Session() as sess:\n",
    "    print(sess.run(tf.multiply(a,b),feed_dict = {a:3.0,b:4.0}))"
   ]
  },
  {
   "cell_type": "code",
   "execution_count": 20,
   "metadata": {},
   "outputs": [
    {
     "name": "stdout",
     "output_type": "stream",
     "text": [
      "[[ 0.00405281  0.00398442  0.00391634]\n",
      " [-0.00860179 -0.00866495 -0.00868329]\n",
      " [ 0.0047545   0.0045586   0.00448803]\n",
      " [-0.00343481 -0.00323258 -0.00317659]]\n"
     ]
    }
   ],
   "source": [
    "import numpy as np\n",
    "X = tf.constant(np.random.randn(4,3)*0.01,name=\"X\")\n",
    "W = tf.constant(np.random.randn(4,4)*0.01,name=\"W\")\n",
    "B = tf.constant(np.random.randn(4,1)*0.01,name=\"B\")\n",
    "\n",
    "Y_hat = tf.Variable(tf.add(tf.matmul(W,X),B),name=\"Y_hat\")\n",
    "\n",
    "with tf.Session() as sess:\n",
    "    sess.run(tf.global_variables_initializer())\n",
    "    print(sess.run(Y_hat))"
   ]
  },
  {
   "cell_type": "code",
   "execution_count": null,
   "metadata": {
    "collapsed": true
   },
   "outputs": [],
   "source": []
  }
 ],
 "metadata": {
  "kernelspec": {
   "display_name": "Python 3",
   "language": "python",
   "name": "python3"
  },
  "language_info": {
   "codemirror_mode": {
    "name": "ipython",
    "version": 3
   },
   "file_extension": ".py",
   "mimetype": "text/x-python",
   "name": "python",
   "nbconvert_exporter": "python",
   "pygments_lexer": "ipython3",
   "version": "3.6.1"
  }
 },
 "nbformat": 4,
 "nbformat_minor": 2
}
